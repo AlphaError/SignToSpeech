{
 "cells": [
  {
   "cell_type": "code",
   "execution_count": null,
   "id": "acfc326d",
   "metadata": {},
   "outputs": [],
   "source": [
    "\"\"\"\n",
    "Purpose: take in a video at a certain directory and product a series of images to be fed into the learning \n",
    "interval of video - hyperparameter\n",
    "\"\"\""
   ]
  },
  {
   "cell_type": "code",
   "execution_count": 6,
   "id": "4faefb34",
   "metadata": {},
   "outputs": [],
   "source": [
    "import os\n",
    "import cv2"
   ]
  },
  {
   "cell_type": "code",
   "execution_count": 15,
   "id": "a0ee496e",
   "metadata": {
    "scrolled": false
   },
   "outputs": [
    {
     "name": "stdout",
     "output_type": "stream",
     "text": [
      "searching through videos: ['/Users/korahughes/Documents/GitHub/SignToSpeech/src-videos/Screen Recording 2022-11-08 at 4.02.22 PM.mov']\n",
      "processing images from video 1 with 57.82477341389728 fps\n",
      "capture taken at frame = 0\n",
      "capture taken at frame = 14\n",
      "capture taken at frame = 28\n",
      "capture taken at frame = 42\n",
      "capture taken at frame = 56\n",
      "capture taken at frame = 70\n",
      "capture taken at frame = 84\n",
      "capture taken at frame = 98\n",
      "capture taken at frame = 112\n",
      "capture taken at frame = 126\n",
      "capture taken at frame = 140\n",
      "capture taken at frame = 154\n",
      "capture taken at frame = 168\n",
      "capture taken at frame = 182\n",
      "capture taken at frame = 196\n",
      "capture taken at frame = 210\n",
      "capture taken at frame = 224\n",
      "capture taken at frame = 238\n",
      "capture taken at frame = 252\n",
      "capture taken at frame = 266\n",
      "capture taken at frame = 280\n",
      "capture taken at frame = 294\n",
      "capture taken at frame = 308\n",
      "Video 2 returned 23 images from 316 frames.\n",
      "\n",
      "...done :)\n"
     ]
    }
   ],
   "source": [
    "vid_dir = \"/src-videos/\"\n",
    "img_dir = \"/test-images/\"\n",
    "\n",
    "def main():\n",
    "    # get images\n",
    "    cwd = os.getcwd()  # current dir\n",
    "    videos = [cwd+vid_dir+file for file in os.listdir(cwd+vid_dir) if '.mov' in file]  # list of videos via dir string\n",
    "    print(\"searching through videos:\", videos)\n",
    "#     assert len(videos) >= 1\n",
    "    \n",
    "    fps = 4  # desired frames per second approximately\n",
    "    i = 1\n",
    "    # make folder\n",
    "    for vid in videos:\n",
    "        image_name = \"video\" + str(i) + \"-image\"\n",
    "        vidcap = cv2.VideoCapture(vid)  # init video\n",
    "#         vidcap.set(cv2.CAP_PROP_FPS, fps)  # set frames\n",
    "        rate = round(vidcap.get(cv2.CAP_PROP_FPS)/fps)  # actual fps/desired fps = rate of capture of our video\n",
    "        success, image = vidcap.read()\n",
    "        count = 0  # count of elapsed frames\n",
    "        rate_count = 0  # count of pictures taken\n",
    "        while success:\n",
    "            if count == 0:\n",
    "                print(\"processing images from video\", i, \"with\", vidcap.get(cv2.CAP_PROP_FPS), \"fps\")\n",
    "            if count%rate == 0:\n",
    "                print(\"capture taken at frame =\", count)\n",
    "                rate_count += 1\n",
    "                cv2.imwrite((cwd+img_dir+image_name+str(rate_count)+\".png\"), image) # save frame as png file \n",
    "            success, image = vidcap.read()\n",
    "#           print('Read a new frame: ', success)\n",
    "            count += 1\n",
    "        i += 1\n",
    "        print(\"Video\", i, \"returned\", rate_count, \"images from\", count, \"frames.\")\n",
    "        \n",
    "    \n",
    "\n",
    "if __name__ == \"__main__\":\n",
    "    main()\n",
    "    print(\"\\n...done :)\")"
   ]
  },
  {
   "cell_type": "code",
   "execution_count": null,
   "id": "1c11512c",
   "metadata": {},
   "outputs": [],
   "source": []
  }
 ],
 "metadata": {
  "kernelspec": {
   "display_name": "Python 3 (ipykernel)",
   "language": "python",
   "name": "python3"
  },
  "language_info": {
   "codemirror_mode": {
    "name": "ipython",
    "version": 3
   },
   "file_extension": ".py",
   "mimetype": "text/x-python",
   "name": "python",
   "nbconvert_exporter": "python",
   "pygments_lexer": "ipython3",
   "version": "3.9.12"
  }
 },
 "nbformat": 4,
 "nbformat_minor": 5
}
