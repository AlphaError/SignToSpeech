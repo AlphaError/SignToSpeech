{
 "cells": [
  {
   "cell_type": "code",
   "execution_count": null,
   "id": "acfc326d",
   "metadata": {},
   "outputs": [],
   "source": [
    "\"\"\"\n",
    "Purpose: take in a video at a certain directory and product a series of images to be fed into the learning \n",
    "interval of video - hyperparameter\n",
    "\"\"\""
   ]
  },
  {
   "cell_type": "code",
   "execution_count": null,
   "id": "4faefb34",
   "metadata": {},
   "outputs": [],
   "source": [
    "import os"
   ]
  },
  {
   "cell_type": "code",
   "execution_count": null,
   "id": "a0ee496e",
   "metadata": {},
   "outputs": [],
   "source": [
    "vid_dir = \"/src-videos/\"\n",
    "def main():\n",
    "    # get images\n",
    "    cwd = os.getcwd()  # current dir\n",
    "    videos = [cwd+vid_dir+file for file in os.listdir(cwd+vid_dir)]  # list of images via dir string\n",
    "#     images = [cv2.imread(file) for file in glob.glob(cwd+image_dir+\"*.png\")]\n",
    "    assert len(videos) >= 1\n",
    "    \n",
    "    division = 2  # number of snap-shots per second in the video\n",
    "    i = 1\n",
    "    # make folder\n",
    "    for vid in videos:\n",
    "        folder_name = \"video\" + str(i) + \"-snippets\"\n",
    "        # save snippits into folder\n",
    "        j = 1\n",
    "        for ...:\n",
    "            image_name = folder_name + \"-image\" + str(j)\n",
    "            j += 1\n",
    "        i += 1\n",
    "        \n",
    "    \n",
    "\n",
    "\n",
    "if __name__ == \"__main__\":\n",
    "    main()"
   ]
  }
 ],
 "metadata": {
  "kernelspec": {
   "display_name": "Python 3 (ipykernel)",
   "language": "python",
   "name": "python3"
  },
  "language_info": {
   "codemirror_mode": {
    "name": "ipython",
    "version": 3
   },
   "file_extension": ".py",
   "mimetype": "text/x-python",
   "name": "python",
   "nbconvert_exporter": "python",
   "pygments_lexer": "ipython3",
   "version": "3.9.12"
  }
 },
 "nbformat": 4,
 "nbformat_minor": 5
}
